{
 "cells": [
  {
   "cell_type": "code",
   "execution_count": null,
   "id": "286a69c3",
   "metadata": {},
   "outputs": [],
   "source": [
    "# I'm starting to learn DSA Patterns. First is Sliding Window\n"
   ]
  },
  {
   "cell_type": "markdown",
   "id": "72bf2569",
   "metadata": {},
   "source": [
    "## Sliding Window in DSA\n",
    "\n",
    "The **Sliding Window** is a commonly used technique in Data Structures and Algorithms (DSA) for solving problems involving arrays or lists. It is especially useful for problems that require finding subarrays or sublists that satisfy certain conditions, such as having a fixed size or a specific sum.\n",
    "\n",
    "### How Sliding Window Works\n",
    "\n",
    "- The idea is to create a \"window\" which can either be a fixed size or variable size, and move it across the data structure (usually an array or list).\n",
    "- At each step, you process the elements inside the window and then slide the window forward by removing the element going out and adding the new element coming in.\n",
    "- This approach helps in reducing the time complexity from O(n^2) (using nested loops) to O(n) in many cases.\n",
    "\n",
    "### Types of Sliding Window\n",
    "\n",
    "1. **Fixed-size Sliding Window:**  \n",
    "    The window size remains constant. For example, finding the maximum sum of any subarray of size `k`.\n",
    "\n",
    "2. **Variable-size Sliding Window:**  \n",
    "    The window size can change depending on the problems constraints. For example, finding the smallest subarray with a sum greater than a given value.\n",
    "\n",
    "### Example: Fixed-size Sliding Window\n",
    "\n",
    "Suppose you want to find the maximum sum of any subarray of size `k` in an array.\n",
    "\n",
    "**Steps:**\n",
    "1. Calculate the sum of the first `k` elements.\n",
    "2. Slide the window by one element at a time, subtract the element going out and add the new element coming in.\n",
    "3. Keep track of the maximum sum found.\n",
    "\n",
    "### Advantages\n",
    "\n",
    "- **Efficiency:** Reduces time complexity for many problems.\n",
    "- **Simplicity:** Easy to implement and understand.\n",
    "\n",
    "### Common Problems Using Sliding Window\n",
    "\n",
    "- Maximum sum subarray of size `k`\n",
    "- Longest substring with no more than `k` distinct characters\n",
    "- Smallest subarray with a sum greater than a given value\n",
    "\n",
    "The sliding window technique is a powerful tool for optimizing solutions to many array and string problems."
   ]
  },
  {
   "cell_type": "code",
   "execution_count": 6,
   "id": "23fc4001",
   "metadata": {},
   "outputs": [
    {
     "name": "stdout",
     "output_type": "stream",
     "text": [
      "Maximum sum of a subarray of size K using Naive Approach is: 9\n",
      "Maximum sum of a subarray of size K using Sliding Window Approach is: 9\n"
     ]
    }
   ],
   "source": [
    "#Navie Approach\n",
    "def max_sum_subarray(arr, k, n):\n",
    "    max_sum = 0\n",
    "    for i in range(n - k+1):\n",
    "        current_sum = 0\n",
    "        for j in range(k):\n",
    "            current_sum += arr[i + j]\n",
    "        max_sum = max(max_sum, current_sum)\n",
    "\n",
    "    return max_sum\n",
    "# Time Complexity: O(N*K)\n",
    "# Space Complexity: O(1)\n",
    "\n",
    "# Sliding Window Approach\n",
    "def max_sum_subarray_sliding_window(arr, k, n):\n",
    "    window_sum = sum(arr[:k])\n",
    "    max_sum = window_sum\n",
    "    for i in range(k, n):\n",
    "        window_sum = window_sum - arr[i - k] + arr[i]\n",
    "        max_sum = max(max_sum, window_sum)\n",
    "\n",
    "    return max_sum\n",
    "# Time Complexity: O(N)\n",
    "# Space Complexity: O(1)\n",
    "\n",
    "if __name__ == \"__main__\":\n",
    "    arr = [2, 1, 5, 1, 3, 2]\n",
    "    k = 3\n",
    "    n = len(arr)\n",
    "    print(\"Maximum sum of a subarray of size K using Naive Approach is:\", max_sum_subarray(arr, k, n))\n",
    "    print(\"Maximum sum of a subarray of size K using Sliding Window Approach is:\", max_sum_subarray_sliding_window(arr, k, n))\n"
   ]
  }
 ],
 "metadata": {
  "kernelspec": {
   "display_name": "Python 3",
   "language": "python",
   "name": "python3"
  },
  "language_info": {
   "codemirror_mode": {
    "name": "ipython",
    "version": 3
   },
   "file_extension": ".py",
   "mimetype": "text/x-python",
   "name": "python",
   "nbconvert_exporter": "python",
   "pygments_lexer": "ipython3",
   "version": "3.13.5"
  }
 },
 "nbformat": 4,
 "nbformat_minor": 5
}
